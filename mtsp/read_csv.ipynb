{
 "cells": [
  {
   "cell_type": "code",
   "execution_count": 4,
   "metadata": {},
   "outputs": [],
   "source": [
    "import pandas as pd\n",
    "import os\n"
   ]
  },
  {
   "cell_type": "code",
   "execution_count": 25,
   "metadata": {},
   "outputs": [],
   "source": [
    "city_list =pd.read_csv(\"../mtsp51.txt\",sep=\" \",header=0,names=['id','X','Y'])\n",
    "numNodes = len(city_list)\n",
    "X = city_list['X'].tolist()\n",
    "Y = city_list['Y'].tolist()"
   ]
  }
 ],
 "metadata": {
  "interpreter": {
   "hash": "d7871d13ce5b98c33ffa321cf0b766602d905eddc597040f14ca2de074d8ee3f"
  },
  "kernelspec": {
   "display_name": "Python 3.9.7 64-bit ('tf_gpu': conda)",
   "language": "python",
   "name": "python3"
  },
  "language_info": {
   "codemirror_mode": {
    "name": "ipython",
    "version": 3
   },
   "file_extension": ".py",
   "mimetype": "text/x-python",
   "name": "python",
   "nbconvert_exporter": "python",
   "pygments_lexer": "ipython3",
   "version": "3.9.7"
  },
  "orig_nbformat": 4
 },
 "nbformat": 4,
 "nbformat_minor": 2
}
